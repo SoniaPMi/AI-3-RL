{
  "nbformat": 4,
  "nbformat_minor": 0,
  "metadata": {
    "colab": {
      "name": "A3C_v1.ipynb",
      "provenance": [],
      "collapsed_sections": [],
      "toc_visible": true,
      "include_colab_link": true
    },
    "kernelspec": {
      "name": "python3",
      "display_name": "Python 3"
    },
    "accelerator": "GPU"
  },
  "cells": [
    {
      "cell_type": "markdown",
      "metadata": {
        "id": "view-in-github",
        "colab_type": "text"
      },
      "source": [
        "<a href=\"https://colab.research.google.com/github/SoniaPMi/AI-3-RL/blob/main/A3C_v1.ipynb\" target=\"_parent\"><img src=\"https://colab.research.google.com/assets/colab-badge.svg\" alt=\"Open In Colab\"/></a>"
      ]
    },
    {
      "cell_type": "markdown",
      "metadata": {
        "id": "CWsxkki8jh8A"
      },
      "source": [
        "**texto en negrita**# A3C v1"
      ]
    },
    {
      "cell_type": "code",
      "metadata": {
        "id": "fSeTTLadjXBg"
      },
      "source": [
        "import gym\n",
        "import numpy as np\n",
        "import os\n",
        "import tensorflow as tf\n",
        "from tensorflow import keras\n",
        "from keras import layers, Model\n",
        "import matplotlib.pyplot as plt\n",
        "import random\n",
        "from collections import deque\n",
        "import datetime\n",
        "from multiprocessing import cpu_count\n",
        "import time\n",
        "import threading\n",
        "from typing import Optional\n"
      ],
      "execution_count": null,
      "outputs": []
    },
    {
      "cell_type": "markdown",
      "metadata": {
        "id": "udd9Gvt78b-2"
      },
      "source": [
        "## Utils function:\n",
        "Transform discrete states into one-hot vectors"
      ]
    },
    {
      "cell_type": "code",
      "metadata": {
        "id": "rpIqeiKm8ync"
      },
      "source": [
        "def discrete_input(state_discrete: tuple, env_dim: gym.spaces.tuple.Tuple):\n",
        "    one_hot_state = []\n",
        "    for i_pos, dim in zip(state_discrete, env_dim):\n",
        "        temp = np.zeros(dim.n)\n",
        "        temp[i_pos] = 1\n",
        "        one_hot_state.append(temp)\n",
        "\n",
        "    return np.concatenate(one_hot_state)"
      ],
      "execution_count": null,
      "outputs": []
    },
    {
      "cell_type": "markdown",
      "metadata": {
        "id": "Ek0pG57w82jN"
      },
      "source": [
        "## A3C aproximator\n",
        "This is the neural network for A3C"
      ]
    },
    {
      "cell_type": "code",
      "metadata": {
        "id": "_ZEY5iHJ9BKy"
      },
      "source": [
        "\n",
        "class DenseNetA3C(Model):\n",
        "    def get_config(self):\n",
        "        pass\n",
        "\n",
        "    def __init__(self, action_size, num_units=50, custom_env: bool = False):\n",
        "        super(DenseNetA3C, self).__init__(name='a3c_dense')\n",
        "        self.action_size = action_size\n",
        "        self.dense1 = layers.Dense(num_units, activation='relu')\n",
        "        self.policy = layers.Dense(action_size, activation='softmax')\n",
        "        self.dense2 = layers.Dense(num_units, activation='relu')\n",
        "        self.values = layers.Dense(1)\n",
        "        self.custom_env = custom_env\n",
        "\n",
        "    def call(self, inputs, training=None, mask=None):\n",
        "        # Reshape input to allow input sequences into the fully connected network\n",
        "        if self.custom_env:\n",
        "            inputs = tf.reshape(inputs, [-1, inputs.shape[1] * inputs.shape[2]])\n",
        "\n",
        "        # Forward pass\n",
        "        x = self.dense1(inputs)\n",
        "        policy_prob = self.policy(x)\n",
        "        v1 = self.dense2(inputs)\n",
        "        values = self.values(v1)\n",
        "        return policy_prob, values"
      ],
      "execution_count": null,
      "outputs": []
    },
    {
      "cell_type": "markdown",
      "metadata": {
        "id": "2tQCzr628Xxg"
      },
      "source": [
        "## A3C AGENT\n",
        "This sections define the classes for the agent to operate with threading.\n",
        "Each agent learns from its own experiences and then updates/synchronizes the learning with the global network."
      ]
    },
    {
      "cell_type": "code",
      "metadata": {
        "id": "N2wbtvIs8lor"
      },
      "source": [
        "\n",
        "class Memory:\n",
        "    def __init__(self):\n",
        "        self.states = []\n",
        "        self.actions = []\n",
        "        self.rewards = []\n",
        "\n",
        "    def store(self, state, action, reward):\n",
        "        self.states.append(state)\n",
        "        self.actions.append(action)\n",
        "        self.rewards.append(reward)\n",
        "\n",
        "    def clear(self):\n",
        "        self.states = []\n",
        "        self.actions = []\n",
        "        self.rewards = []\n",
        "\n",
        "\n",
        "class A3CAgent(threading.Thread):\n",
        "    # Set up global variables across different threads\n",
        "    stop_signal = False\n",
        "    global_episode = 0\n",
        "    global_ema_reward = None\n",
        "    best_score = None\n",
        "    lock = threading.Lock()\n",
        "\n",
        "    def __init__(self, env, local_model, opt, idx,\n",
        "                 max_episodes=1000, update_freq=20, gamma=.99,\n",
        "                 grad_prop: bool = False, normalize: bool = True,\n",
        "                 c_actor: float = 1, c_critic: float = 0.5, c_entropy: float = 0.01,\n",
        "                 ema_ratio: float = 0.01, early_stopping=None, max_steps_per_episode=200):\n",
        "        super(A3CAgent, self).__init__()\n",
        "        self.env = env\n",
        "        self.local_model = local_model\n",
        "        self.global_model = None\n",
        "        self.opt = opt\n",
        "        self.worker_idx = idx\n",
        "        self.max_episodes = max_episodes\n",
        "        self.update_freq = update_freq\n",
        "        self.gamma = gamma\n",
        "        self.name = ''\n",
        "        self.folder_model = None\n",
        "        self.summary_writer = None\n",
        "        self.memory = Memory()\n",
        "        self.eps = np.finfo(np.float32).eps.item()  # Smallest number such that 1.0 + eps != 1.0\n",
        "        self.grad_prop: bool = grad_prop\n",
        "        self.normalize: bool = normalize\n",
        "        self.c_actor: float = c_actor\n",
        "        self.c_critic: float = c_critic\n",
        "        self.c_entropy: float = c_entropy\n",
        "        self.ema_ratio: float = ema_ratio\n",
        "        self.max_steps_per_episode: int = max_steps_per_episode\n",
        "        self.early_stopping: Optional[float] = early_stopping\n",
        "\n",
        "    def __record_results(self, episode_reward, worker_idx, episode_loss_mean, num_steps):\n",
        "        \"\"\"Helper function to store score and print statistics.\n",
        "\n",
        "        Arguments:\n",
        "          episode_reward: Reward accumulated over the current episode\n",
        "          worker_idx: Which thread (worker)\n",
        "          episode_loss_mean: The total loss accumulated over the current episode\n",
        "          num_steps: The number of steps the episode took to complete\n",
        "        \"\"\"\n",
        "\n",
        "        # Save Tensorboard\n",
        "        with self.summary_writer.as_default():\n",
        "            tf.summary.scalar('Episode Reward', episode_reward, step=A3CAgent.global_episode)\n",
        "            tf.summary.scalar('Agent ID', self.worker_idx, step=A3CAgent.global_episode)\n",
        "            tf.summary.scalar('Episode EMA Reward', A3CAgent.global_ema_reward, step=A3CAgent.global_episode)\n",
        "            tf.summary.scalar('Episode Loss', episode_loss_mean, step=A3CAgent.global_episode)\n",
        "\n",
        "        # Print in command line\n",
        "        print(f\"Episode: ({A3CAgent.global_episode + 1}/{self.max_episodes}) | \"\n",
        "              f\"EMA Reward: {A3CAgent.global_ema_reward:.3} | \"\n",
        "              f\"Reward: {episode_reward:.3} | \"\n",
        "              f\"Loss: {episode_loss_mean:.3} | \"\n",
        "              f\"Steps: {num_steps} | Worker: {worker_idx}\")\n",
        "\n",
        "    def __predict_action(self, current_state):\n",
        "        probs, _ = self.local_model(tf.convert_to_tensor(current_state[None, :], dtype=tf.float32))\n",
        "        action = np.random.choice(self.env.action_size, p=probs.numpy()[0])\n",
        "        return action\n",
        "\n",
        "    @staticmethod\n",
        "    def __update_ema_reward(episode_reward, ema_ratio=0.01):\n",
        "        if A3CAgent.global_ema_reward is None:\n",
        "            A3CAgent.global_ema_reward = episode_reward\n",
        "        else:\n",
        "            A3CAgent.global_ema_reward = A3CAgent.global_ema_reward * (1 - ema_ratio) + episode_reward * ema_ratio\n",
        "\n",
        "    def __compute_loss(self, done, new_state):\n",
        "        if done:\n",
        "            reward_sum = 0.  # terminal\n",
        "        else:\n",
        "            _, values_pred = self.local_model(tf.convert_to_tensor(new_state[None, :], dtype=tf.float32))\n",
        "            reward_sum = values_pred.numpy()[0].item()\n",
        "\n",
        "        # Estimate discounted reward for every step (matrix computation)\n",
        "        rewards = self.memory.rewards + [reward_sum]\n",
        "        gamma_n = np.power(self.gamma, np.arange(len(rewards)))\n",
        "        returns = (rewards * gamma_n)[::-1].cumsum()[::-1] / gamma_n\n",
        "        returns = returns[:-1]\n",
        "\n",
        "        # Predict policy probabilities and values for given states\n",
        "        states = np.stack(self.memory.states)\n",
        "        policy_probs, values = self.local_model(tf.convert_to_tensor(states, dtype=tf.float32))\n",
        "\n",
        "        # Normalize rewards to obtain more stability\n",
        "        if self.normalize:\n",
        "            returns = np.array(returns)\n",
        "            returns = (returns - np.mean(returns)) / (np.std(returns) + self.eps)\n",
        "            # returns = returns.tolist()\n",
        "\n",
        "        # Estimate advantages\n",
        "        advantage = tf.convert_to_tensor(returns[:, None], dtype=tf.float32) - values\n",
        "\n",
        "        # Value loss\n",
        "        value_loss = tf.square(advantage)\n",
        "\n",
        "        # Policy loss\n",
        "        actions = tf.one_hot(self.memory.actions, depth=self.env.action_size)\n",
        "        pi = tf.reduce_sum(policy_probs * actions, axis=1, keepdims=True)  # select probs for given actions\n",
        "        if self.grad_prop:\n",
        "            policy_loss = - tf.math.log(pi + self.eps) * tf.stop_gradient(advantage)\n",
        "        else:\n",
        "            policy_loss = - tf.math.log(pi + self.eps) * advantage\n",
        "\n",
        "        # Entropy to regularize loss\n",
        "        entropy_policy = tf.reduce_sum(policy_probs * tf.math.log(policy_probs + self.eps), axis=1, keepdims=True)\n",
        "\n",
        "        # Total loss\n",
        "        total_loss = tf.reduce_mean(self.c_actor * policy_loss +\n",
        "                                    self.c_critic * value_loss +\n",
        "                                    self.c_entropy * entropy_policy)\n",
        "        return total_loss\n",
        "\n",
        "    def __train(self, done, new_state):\n",
        "        # Calculate gradient wrt to local model. We do so by tracking the\n",
        "        # variables involved in computing the loss by using tf.GradientTape\n",
        "        with tf.GradientTape() as tape:\n",
        "            total_loss = self.__compute_loss(done, new_state)\n",
        "\n",
        "        # Calculate local gradients\n",
        "        grads = tape.gradient(total_loss, self.local_model.trainable_weights)\n",
        "\n",
        "        # Push local gradients to global model\n",
        "        self.opt.apply_gradients(zip(grads, self.global_model.trainable_weights))\n",
        "\n",
        "        # Update local model with new weights\n",
        "        self.local_model.set_weights(self.global_model.get_weights())\n",
        "        return total_loss.numpy()\n",
        "\n",
        "    def __save_model(self):\n",
        "        print(f'Saving best model to {self.folder_model}, episode score: {A3CAgent.best_score}')\n",
        "        if not os.path.exists(self.folder_model):\n",
        "            os.makedirs(self.folder_model)\n",
        "        self.global_model.save_weights(os.path.join(self.folder_model, f'{self.name}.h5'))\n",
        "\n",
        "    def __run_episodes(self):\n",
        "        while A3CAgent.global_episode < self.max_episodes and not self.early_stop():\n",
        "            current_state = self.env.reset()\n",
        "            self.memory.clear()\n",
        "            ep_reward = 0.\n",
        "            ep_steps = 0\n",
        "            ep_losses = 0\n",
        "\n",
        "            time_count = 0\n",
        "            done = False\n",
        "            while not done or ep_steps > self.max_steps_per_episode:\n",
        "                action = self.__predict_action(current_state)\n",
        "                new_state, reward, done, _ = self.env.step(action)\n",
        "                # if isinstance(self.env.observation_space, gym.spaces.tuple.Tuple):\n",
        "                #     new_state = discrete_input(new_state, self.env.observation_space)\n",
        "                ep_reward += reward\n",
        "                self.memory.store(current_state, action, reward)\n",
        "\n",
        "                if time_count == self.update_freq or done:\n",
        "                    total_loss = self.__train(done, new_state)\n",
        "                    self.memory.clear()\n",
        "                    ep_losses += total_loss\n",
        "                    time_count = 0\n",
        "\n",
        "                    if done or ep_steps > self.max_steps_per_episode:\n",
        "                        with A3CAgent.lock:\n",
        "                            # Stop all the threads if max_episodes reached\n",
        "                            if A3CAgent.global_episode >= self.max_episodes:\n",
        "                                A3CAgent.stop_signal = True\n",
        "                                break\n",
        "\n",
        "                            # Average episode loss\n",
        "                            episode_loss_mean = ep_losses / ep_steps\n",
        "\n",
        "                            # Instantiate best_score with the first ep_reward.\n",
        "                            if A3CAgent.best_score is None:\n",
        "                                A3CAgent.best_score = ep_reward\n",
        "                            #  Re-estimate moving average of the episode reward: A3CAgent.global_ema_reward\n",
        "                            self.__update_ema_reward(ep_reward, ema_ratio=self.ema_ratio)\n",
        "\n",
        "                            # Print Info and write Tensorboard\n",
        "                            self.__record_results(ep_reward, self.worker_idx, episode_loss_mean, ep_steps)\n",
        "\n",
        "                            # Save model only if it is better than the already stored.\n",
        "                            if ep_reward > A3CAgent.best_score:\n",
        "                                A3CAgent.best_score = ep_reward\n",
        "                                self.__save_model()\n",
        "\n",
        "                            if ep_steps > 100 and self.early_stop():\n",
        "                                print(\"Solved at episode {}!\".format(A3CAgent.global_episode))\n",
        "                                A3CAgent.stop_signal = True\n",
        "                                break\n",
        "\n",
        "                            A3CAgent.global_episode += 1\n",
        "\n",
        "                ep_steps += 1\n",
        "                time_count += 1\n",
        "                current_state = new_state\n",
        "\n",
        "    def run(self):\n",
        "        self.__run_episodes()\n",
        "        A3CAgent.stop_signal = True\n",
        "\n",
        "    # def stop(self):\n",
        "    #     while True:\n",
        "    #         if A3CAgent.stop_signal is True:\n",
        "    #             break\n",
        "\n",
        "    def early_stop(self):\n",
        "        if self.early_stopping is not None and \\\n",
        "                A3CAgent.global_ema_reward is not None and \\\n",
        "                A3CAgent.global_ema_reward > self.early_stopping:\n",
        "            return True\n",
        "        else:\n",
        "            return False\n"
      ],
      "execution_count": null,
      "outputs": []
    },
    {
      "cell_type": "markdown",
      "metadata": {
        "id": "bdt686u4_2XY"
      },
      "source": [
        "## A3C Runner\n",
        "This is the section where the agents are coordinated"
      ]
    },
    {
      "cell_type": "code",
      "metadata": {
        "id": "LRsND1xV_15a"
      },
      "source": [
        "\n",
        "class A3CRunner:\n",
        "    def __init__(self, agent, global_model, name, folder_model, summary_writer):\n",
        "        self.agent = agent\n",
        "        self.global_model = global_model\n",
        "\n",
        "        # # Build directories\n",
        "        # run_date = time.strftime(\"%Y%m%d_%H%M%S\")\n",
        "        # folder_model = os.path.join('./models_a3c', name, run_date)\n",
        "        # self.folder_tensor_board = os.path.join('./logs_tensorboard_a3c', name, run_date)\n",
        "\n",
        "        # if not os.path.exists(self.folder_tensor_board):\n",
        "        #     os.makedirs(self.folder_tensor_board)\n",
        "\n",
        "        # # Tensorboard summary writer\n",
        "        # summary_writer = tf.summary.create_file_writer(self.folder_tensor_board)\n",
        "\n",
        "        # Transfer info to every worker\n",
        "        for worker in self.agent:\n",
        "            worker.global_model = self.global_model\n",
        "            worker.summary_writer = summary_writer\n",
        "            worker.folder_model = folder_model\n",
        "            worker.name = name\n",
        "\n",
        "        # Initialize global model to get weights later\n",
        "        rand_state = self.agent[0].env.reset()[None, :]\n",
        "        self.global_model(tf.convert_to_tensor(rand_state, dtype=tf.float32))\n",
        "\n",
        "    def run(self):\n",
        "        if A3CAgent.global_ema_reward is None:\n",
        "            [worker.start() for worker in self.agent]\n",
        "        else:\n",
        "            A3CAgent.stop_signal = False\n",
        "            A3CAgent.global_ema_reward = None\n",
        "            [worker.run() for worker in self.agent]\n",
        "\n",
        "        while True:\n",
        "            if self.agent[0].stop_signal is True:\n",
        "                break\n",
        "\n",
        "        [w.join() for w in self.agent]\n",
        "\n",
        "    def play(self, plays=100, max_steps_per_episode=100, show_plots=False):\n",
        "        env = self.agent[0].env\n",
        "\n",
        "        episode_rewards, episode_steps, entropy = [], [], []\n",
        "        for plays_i in range(plays):\n",
        "            current_state = env.reset()\n",
        "            ep_reward = 0.\n",
        "            ep_steps = 0\n",
        "            done = False\n",
        "            while not done or ep_steps > max_steps_per_episode:\n",
        "                # action = self.agent[0].__predict_action(current_state)\n",
        "                probs, _ = self.global_model(tf.convert_to_tensor(current_state[None, :], dtype=tf.float32))\n",
        "                action = np.random.choice(env.action_size, p=probs.numpy()[0])\n",
        "\n",
        "                entropy_i = probs.numpy()\n",
        "                entropy.append(np.sum(-entropy_i * np.log(entropy_i)))\n",
        "\n",
        "                new_state, reward, done, _ = env.step(action)\n",
        "\n",
        "                ep_reward += reward\n",
        "                ep_steps += 1\n",
        "                current_state = new_state\n",
        "            episode_rewards.append(ep_reward)\n",
        "            episode_steps.append(ep_steps)\n",
        "\n",
        "        print(f\"Avg rewards: {np.mean(episode_rewards).round(2)} +/- {np.std(episode_rewards).round(2)}\")\n",
        "        print(f\"Avg steps: {np.mean(episode_steps).round(2)} +/- {np.std(episode_steps).round(2)}\")\n",
        "        print(f\"Avg entropy: {np.mean(entropy).round(2)} +/- {np.std(entropy).round(2)}\")\n",
        "\n",
        "        if show_plots:\n",
        "            num_bins = 50\n",
        "            x = np.array(episode_rewards)\n",
        "            fig, ax = plt.subplots()\n",
        "\n",
        "            # the histogram of the data\n",
        "            n, bins, patches = ax.hist(x, num_bins, density=1)\n",
        "\n",
        "            ax.set_xlabel('Episode rewards')\n",
        "            ax.set_ylabel('Probability density')\n",
        "            ax.set_title(f'Mean {np.mean(x).round(2)} +/- {np.std(x).round(2)}')\n",
        "\n",
        "            # Tweak spacing to prevent clipping of ylabel\n",
        "            fig.tight_layout()\n",
        "            plt.show()\n"
      ],
      "execution_count": null,
      "outputs": []
    },
    {
      "cell_type": "markdown",
      "metadata": {
        "id": "wn0-uTtqkPeC"
      },
      "source": [
        "Disable GPU computation for local devices\n"
      ]
    },
    {
      "cell_type": "code",
      "metadata": {
        "id": "z-dueBMmj8QY"
      },
      "source": [
        "# os.environ[\"CUDA_VISIBLE_DEVICES\"] = \"-1\""
      ],
      "execution_count": null,
      "outputs": []
    },
    {
      "cell_type": "markdown",
      "metadata": {
        "id": "-gvh2VHsje3w"
      },
      "source": [
        "## Gym selection and basic configurations"
      ]
    },
    {
      "cell_type": "code",
      "metadata": {
        "id": "3A722SC0km68",
        "colab": {
          "base_uri": "https://localhost:8080/"
        },
        "outputId": "ccc1863a-903e-495b-f56f-ecfa77aff0d5"
      },
      "source": [
        "gym_name_list = [\n",
        "    {\n",
        "        'name': 'CartPole-v0',\n",
        "        'goal': 180,\n",
        "        'v_min': 0,\n",
        "        'v_max': 210,\n",
        "        'ep': 50\n",
        "    },\n",
        "    {\n",
        "        'name': 'MountainCar-v0',\n",
        "        'goal': -150, \n",
        "        'v_min': -210,\n",
        "        'v_max': 0,\n",
        "        'ep': 20\n",
        "    },\n",
        "    {\n",
        "        'name': 'Blackjack-v0',\n",
        "        'goal': 0.10,\n",
        "        'v_min': -20,\n",
        "        'v_max': 20,\n",
        "        'ep': 1000\n",
        "    }\n",
        "]\n",
        "\n",
        "env_i = 2 #@param {type:\"slider\", min:0, max:2, step:1}\n",
        "\n",
        "save_model: bool = False # @param {type:\"boolean\"}\n",
        "show_plots: bool = True # @param {type:\"boolean\"}\n",
        "\n",
        "# The code fails when environment is rendered in COLAB.\n",
        "render_env: bool = False # @param {type:\"boolean\"}\n",
        "seed = 42 # @param {type:\"integer\"}\n",
        "\n",
        "max_steps_per_episode = 200 # @param {type:\"integer\"}\n",
        "\n",
        "print(f\"These are the CPU cores available: {cpu_count()}\")\n",
        "N_WORKERS: int = 2 # @param {type:\"integer\"}\n",
        "\n",
        "stopping_reward_criteria = gym_name_list[env_i]['goal']\n",
        "\n",
        "gym_name = gym_name_list[env_i]['name']\n",
        "\n",
        "envs = []\n",
        "for _ in range(N_WORKERS):\n",
        "    env = gym.make(gym_name)  # Create the environment\n",
        "    if isinstance(env.observation_space, gym.spaces.tuple.Tuple):\n",
        "        env = gym.wrappers.TransformObservation(env, lambda obs: discrete_input(obs, env.observation_space))\n",
        "    env.seed(seed)\n",
        "    env.action_size = env.action_space.n\n",
        "    envs.append(env)\n",
        "\n",
        "if isinstance(envs[0].observation_space, gym.spaces.tuple.Tuple):\n",
        "    num_inputs = sum([x.n for x in envs[0].observation_space])\n",
        "else:\n",
        "    num_inputs = envs[0].observation_space.shape[0]\n",
        "num_actions = envs[0].action_size"
      ],
      "execution_count": null,
      "outputs": [
        {
          "output_type": "stream",
          "name": "stdout",
          "text": [
            "These are the CPU cores available: 2\n"
          ]
        }
      ]
    },
    {
      "cell_type": "code",
      "metadata": {
        "colab": {
          "base_uri": "https://localhost:8080/"
        },
        "id": "R9RpNDIeeK6-",
        "outputId": "65ec6651-00e3-4187-e8cb-db307b58f448"
      },
      "source": [
        "envs[0].observation_space\n"
      ],
      "execution_count": null,
      "outputs": [
        {
          "output_type": "execute_result",
          "data": {
            "text/plain": [
              "Tuple(Discrete(32), Discrete(11), Discrete(2))"
            ]
          },
          "metadata": {},
          "execution_count": 8
        }
      ]
    },
    {
      "cell_type": "markdown",
      "metadata": {
        "id": "tWXm85B4lIJ7"
      },
      "source": [
        "## Algorithm hyper-parameters"
      ]
    },
    {
      "cell_type": "code",
      "metadata": {
        "id": "VqDFkMCflFY-"
      },
      "source": [
        "# Factor of the ema that displays that tracks the averaged rewards\n",
        "ema_ratio = 0.01  # @param {type:\"number\"}\n",
        "\n",
        "# Maximum steps in a episode\n",
        "max_steps_per_episode: int = 200 # @param  {type:\"integer\"}\n",
        "\n",
        "# Discount factor for estimating the futures rewards\n",
        "gamma: float = 0.99  # @param {type:\"number\"}\n",
        "\n",
        "# Decide if normalize the episode returns\n",
        "normalize: bool = True  # @param {type:\"boolean\"}\n",
        "\n",
        "# Decide if apply gradient propagation through critic value, in theory NOT.\n",
        "grad_prop: bool = False  # @param {type:\"boolean\"}\n",
        "\n",
        "# Weights in applied loss components\n",
        "c_actor = 1.0  # @param {type:\"number\"}\n",
        "c_critic = 0.5  # @param {type:\"number\"}\n",
        "c_entropy = 0.01  # @param {type:\"number\"}\n",
        "\n",
        "# The usual factor that controls the amount of change the weights are updated\n",
        "learning_rate = 0.001 # @param {type:\"number\"}\n",
        "\n",
        "# Factor to define heuristically the size of the hidden layer.\n",
        "hidden_size_factor = 16 # @param {type:\"integer\"}\n",
        "num_hidden = num_inputs * num_actions * hidden_size_factor"
      ],
      "execution_count": null,
      "outputs": []
    },
    {
      "cell_type": "markdown",
      "metadata": {
        "id": "k2H04rFNqdNg"
      },
      "source": [
        "## Tensorboard configuration"
      ]
    },
    {
      "cell_type": "code",
      "metadata": {
        "id": "JyP6U0yKq-Ez"
      },
      "source": [
        "implementation = \"A3C_v0\"\n",
        "current_time = datetime.datetime.now().strftime(\"%Y%m%d-%H%M%S\")\n",
        "train_log_dir = os.path.join(\"logs\", gym_name, implementation, \"T_\" + current_time)\n",
        "summary_writer = tf.summary.create_file_writer(train_log_dir)"
      ],
      "execution_count": null,
      "outputs": []
    },
    {
      "cell_type": "code",
      "metadata": {
        "colab": {
          "base_uri": "https://localhost:8080/",
          "height": 839
        },
        "id": "VkJuXmNph9wb",
        "outputId": "7cad842f-d195-40dc-c800-b704d846e563"
      },
      "source": [
        "# Load the TensorBoard notebook extension\n",
        "%load_ext tensorboard\n",
        "# %reload_ext tensorboard\n",
        "\n",
        "# from tensorboard import notebook\n",
        "# notebook.list() # View open TensorBoard instances\n",
        "\n",
        "# # Control TensorBoard display. If no port is provided, \n",
        "# # the most recently launched TensorBoard is used\n",
        "# notebook.display(port=6006, height=1000) \n",
        "\n",
        "%tensorboard --logdir ./logs"
      ],
      "execution_count": null,
      "outputs": [
        {
          "output_type": "display_data",
          "data": {
            "text/plain": [
              "Reusing TensorBoard on port 6006 (pid 144), started 0:16:11 ago. (Use '!kill 144' to kill it.)"
            ]
          },
          "metadata": {}
        },
        {
          "output_type": "display_data",
          "data": {
            "application/javascript": [
              "\n",
              "        (async () => {\n",
              "            const url = new URL(await google.colab.kernel.proxyPort(6006, {'cache': true}));\n",
              "            url.searchParams.set('tensorboardColab', 'true');\n",
              "            const iframe = document.createElement('iframe');\n",
              "            iframe.src = url;\n",
              "            iframe.setAttribute('width', '100%');\n",
              "            iframe.setAttribute('height', '800');\n",
              "            iframe.setAttribute('frameborder', 0);\n",
              "            document.body.appendChild(iframe);\n",
              "        })();\n",
              "    "
            ],
            "text/plain": [
              "<IPython.core.display.Javascript object>"
            ]
          },
          "metadata": {}
        }
      ]
    },
    {
      "cell_type": "markdown",
      "metadata": {
        "id": "Q2FEzyMp9l6-"
      },
      "source": [
        "## Main function (script) to activate the learning:\n",
        "The logic is in the A3C agent and runner. This just instantiate the classes."
      ]
    },
    {
      "cell_type": "code",
      "metadata": {
        "id": "IJvX4Zxs-X4I",
        "colab": {
          "base_uri": "https://localhost:8080/"
        },
        "outputId": "d7e77d68-4fc3-4ca5-ba44-243456127c18"
      },
      "source": [
        "\n",
        "# OPT = tf.keras.optimizers.Adam(learning_rate=learning_rate, use_locking=True)\n",
        "OPT = tf.compat.v1.train.AdamOptimizer(learning_rate, use_locking=True)\n",
        "\n",
        "# Neural approximator\n",
        "neural_nets = [DenseNetA3C(action_size=envs[0].action_size,\n",
        "                           num_units=num_hidden,\n",
        "                           custom_env=False) for _ in range(N_WORKERS + 1)]\n",
        "\n",
        "\n",
        "# Agent\n",
        "workers = [A3CAgent(env=envs[i],\n",
        "                    local_model=neural_nets[i],\n",
        "                    opt=OPT,\n",
        "                    idx=i,\n",
        "                    max_episodes=15000,\n",
        "                    update_freq=20,\n",
        "                    gamma=gamma,\n",
        "                    grad_prop=grad_prop,\n",
        "                    c_actor=c_actor,\n",
        "                    c_critic=c_critic,\n",
        "                    c_entropy=c_entropy,\n",
        "                    ema_ratio=ema_ratio,\n",
        "                    early_stopping=stopping_reward_criteria,\n",
        "                    max_steps_per_episode=max_steps_per_episode) for i in range(N_WORKERS)]\n",
        "\n",
        "# Runner\n",
        "runner = A3CRunner(agent=workers,\n",
        "                   global_model=neural_nets[-1],\n",
        "                   name=implementation,\n",
        "                   folder_model=train_log_dir,\n",
        "                   summary_writer=summary_writer)\n",
        "\n",
        "runner.run()\n"
      ],
      "execution_count": null,
      "outputs": [
        {
          "output_type": "stream",
          "name": "stderr",
          "text": [
            "/usr/local/lib/python3.7/dist-packages/ipykernel_launcher.py:191: RuntimeWarning: divide by zero encountered in double_scalars\n"
          ]
        },
        {
          "output_type": "stream",
          "name": "stdout",
          "text": [
            "Episode: (1/15000) | EMA Reward: -1.0 | Reward: -1.0 | Loss: inf | Steps: 0 | Worker: 1\n",
            "Episode: (2/15000) | EMA Reward: -0.98 | Reward: 1.0 | Loss: -inf | Steps: 0 | Worker: 0\n",
            "Saving best model to logs/Blackjack-v0/A3C_v0/T_20220309-003000, episode score: 1.0\n",
            "Episode: (3/15000) | EMA Reward: -0.96 | Reward: 1.0 | Loss: -inf | Steps: 0 | Worker: 0\n",
            "Episode: (4/15000) | EMA Reward: -0.961 | Reward: -1.0 | Loss: 0.346 | Steps: 1 | Worker: 1\n",
            "Episode: (5/15000) | EMA Reward: -0.941 | Reward: 1.0 | Loss: -inf | Steps: 0 | Worker: 0\n",
            "Episode: (6/15000) | EMA Reward: -0.922 | Reward: 1.0 | Loss: -inf | Steps: 0 | Worker: 1\n",
            "Episode: (7/15000) | EMA Reward: -0.922 | Reward: -1.0 | Loss: 0.415 | Steps: 1 | Worker: 0\n",
            "Episode: (8/15000) | EMA Reward: -0.923 | Reward: -1.0 | Loss: -inf | Steps: 0 | Worker: 1\n",
            "Episode: (9/15000) | EMA Reward: -0.904 | Reward: 1.0 | Loss: -inf | Steps: 0 | Worker: 0\n",
            "Episode: (10/15000) | EMA Reward: -0.905 | Reward: -1.0 | Loss: -inf | Steps: 0 | Worker: 0\n",
            "Episode: (11/15000) | EMA Reward: -0.886 | Reward: 1.0 | Loss: 0.262 | Steps: 2 | Worker: 1\n",
            "Episode: (12/15000) | EMA Reward: -0.887 | Reward: -1.0 | Loss: -inf | Steps: 0 | Worker: 1\n",
            "Episode: (13/15000) | EMA Reward: -0.868 | Reward: 1.0 | Loss: 0.363 | Steps: 1 | Worker: 0\n",
            "Episode: (14/15000) | EMA Reward: -0.869 | Reward: -1.0 | Loss: -inf | Steps: 0 | Worker: 1\n",
            "Episode: (15/15000) | EMA Reward: -0.871 | Reward: -1.0 | Loss: -inf | Steps: 0 | Worker: 0\n",
            "Episode: (16/15000) | EMA Reward: -0.872 | Reward: -1.0 | Loss: -inf | Steps: 0 | Worker: 1\n",
            "Episode: (17/15000) | EMA Reward: -0.873 | Reward: -1.0 | Loss: -inf | Steps: 0 | Worker: 0\n",
            "Episode: (18/15000) | EMA Reward: -0.875 | Reward: -1.0 | Loss: 0.0999 | Steps: 2 | Worker: 1\n",
            "Episode: (19/15000) | EMA Reward: -0.876 | Reward: -1.0 | Loss: 0.215 | Steps: 1 | Worker: 0\n",
            "Episode: (20/15000) | EMA Reward: -0.877 | Reward: -1.0 | Loss: -inf | Steps: 0 | Worker: 1\n",
            "Episode: (21/15000) | EMA Reward: -0.878 | Reward: -1.0 | Loss: -inf | Steps: 0 | Worker: 0\n",
            "Episode: (22/15000) | EMA Reward: -0.88 | Reward: -1.0 | Loss: 0.0487 | Steps: 1 | Worker: 1\n",
            "Episode: (23/15000) | EMA Reward: -0.861 | Reward: 1.0 | Loss: 0.181 | Steps: 3 | Worker: 0\n",
            "Episode: (24/15000) | EMA Reward: -0.862 | Reward: -1.0 | Loss: 0.187 | Steps: 2 | Worker: 1\n",
            "Episode: (25/15000) | EMA Reward: -0.863 | Reward: -1.0 | Loss: -inf | Steps: 0 | Worker: 0\n",
            "Episode: (26/15000) | EMA Reward: -0.865 | Reward: -1.0 | Loss: 0.0655 | Steps: 1 | Worker: 1\n",
            "Episode: (27/15000) | EMA Reward: -0.846 | Reward: 1.0 | Loss: -inf | Steps: 0 | Worker: 0\n",
            "Episode: (28/15000) | EMA Reward: -0.828 | Reward: 1.0 | Loss: -inf | Steps: 0 | Worker: 1\n",
            "Episode: (29/15000) | EMA Reward: -0.809 | Reward: 1.0 | Loss: -inf | Steps: 0 | Worker: 0\n",
            "Episode: (30/15000) | EMA Reward: -0.811 | Reward: -1.0 | Loss: -inf | Steps: 0 | Worker: 1\n",
            "Episode: (31/15000) | EMA Reward: -0.813 | Reward: -1.0 | Loss: -inf | Steps: 0 | Worker: 0\n",
            "Episode: (32/15000) | EMA Reward: -0.795 | Reward: 1.0 | Loss: -inf | Steps: 0 | Worker: 0\n",
            "Episode: (33/15000) | EMA Reward: -0.797 | Reward: -1.0 | Loss: -inf | Steps: 0 | Worker: 1\n",
            "Episode: (34/15000) | EMA Reward: -0.779 | Reward: 1.0 | Loss: -inf | Steps: 0 | Worker: 0\n",
            "Episode: (35/15000) | EMA Reward: -0.781 | Reward: -1.0 | Loss: 0.479 | Steps: 1 | Worker: 1\n",
            "Episode: (36/15000) | EMA Reward: -0.764 | Reward: 1.0 | Loss: -inf | Steps: 0 | Worker: 0\n",
            "Episode: (37/15000) | EMA Reward: -0.766 | Reward: -1.0 | Loss: -inf | Steps: 0 | Worker: 1\n",
            "Episode: (38/15000) | EMA Reward: -0.768 | Reward: -1.0 | Loss: -inf | Steps: 0 | Worker: 1\n",
            "Episode: (39/15000) | EMA Reward: -0.771 | Reward: -1.0 | Loss: 0.0612 | Steps: 1 | Worker: 0\n",
            "Episode: (40/15000) | EMA Reward: -0.773 | Reward: -1.0 | Loss: 0.311 | Steps: 1 | Worker: 0\n",
            "Episode: (41/15000) | EMA Reward: -0.775 | Reward: -1.0 | Loss: 0.0962 | Steps: 1 | Worker: 1\n",
            "Episode: (42/15000) | EMA Reward: -0.777 | Reward: -1.0 | Loss: 0.112 | Steps: 2 | Worker: 0\n",
            "Episode: (43/15000) | EMA Reward: -0.78 | Reward: -1.0 | Loss: -0.00439 | Steps: 1 | Worker: 1\n",
            "Episode: (44/15000) | EMA Reward: -0.782 | Reward: -1.0 | Loss: -inf | Steps: 0 | Worker: 1\n",
            "Episode: (45/15000) | EMA Reward: -0.764 | Reward: 1.0 | Loss: 0.228 | Steps: 2 | Worker: 0\n",
            "Episode: (46/15000) | EMA Reward: -0.766 | Reward: -1.0 | Loss: -inf | Steps: 0 | Worker: 1\n",
            "Episode: (47/15000) | EMA Reward: -0.769 | Reward: -1.0 | Loss: -inf | Steps: 0 | Worker: 0\n",
            "Episode: (48/15000) | EMA Reward: -0.751 | Reward: 1.0 | Loss: -inf | Steps: 0 | Worker: 1\n",
            "Episode: (49/15000) | EMA Reward: -0.744 | Reward: 0.0 | Loss: -inf | Steps: 0 | Worker: 0\n",
            "Episode: (50/15000) | EMA Reward: -0.746 | Reward: -1.0 | Loss: -inf | Steps: 0 | Worker: 1\n",
            "Episode: (51/15000) | EMA Reward: -0.729 | Reward: 1.0 | Loss: -inf | Steps: 0 | Worker: 0\n",
            "Episode: (52/15000) | EMA Reward: -0.731 | Reward: -1.0 | Loss: 0.313 | Steps: 1 | Worker: 1\n",
            "Episode: (53/15000) | EMA Reward: -0.734 | Reward: -1.0 | Loss: -inf | Steps: 0 | Worker: 0\n",
            "Episode: (54/15000) | EMA Reward: -0.737 | Reward: -1.0 | Loss: -inf | Steps: 0 | Worker: 1\n",
            "Episode: (55/15000) | EMA Reward: -0.739 | Reward: -1.0 | Loss: inf | Steps: 0 | Worker: 0\n",
            "Episode: (56/15000) | EMA Reward: -0.742 | Reward: -1.0 | Loss: -inf | Steps: 0 | Worker: 1\n",
            "Episode: (57/15000) | EMA Reward: -0.745 | Reward: -1.0 | Loss: -inf | Steps: 0 | Worker: 0\n",
            "Episode: (58/15000) | EMA Reward: -0.747 | Reward: -1.0 | Loss: inf | Steps: 0 | Worker: 1\n",
            "Episode: (59/15000) | EMA Reward: -0.75 | Reward: -1.0 | Loss: -inf | Steps: 0 | Worker: 0\n",
            "Episode: (60/15000) | EMA Reward: -0.752 | Reward: -1.0 | Loss: -inf | Steps: 0 | Worker: 1\n",
            "Episode: (61/15000) | EMA Reward: -0.755 | Reward: -1.0 | Loss: -inf | Steps: 0 | Worker: 0\n",
            "Episode: (62/15000) | EMA Reward: -0.757 | Reward: -1.0 | Loss: -inf | Steps: 0 | Worker: 1\n",
            "Episode: (63/15000) | EMA Reward: -0.739 | Reward: 1.0 | Loss: 0.625 | Steps: 1 | Worker: 0\n",
            "Episode: (64/15000) | EMA Reward: -0.732 | Reward: 0.0 | Loss: -inf | Steps: 0 | Worker: 1\n",
            "Episode: (65/15000) | EMA Reward: -0.715 | Reward: 1.0 | Loss: 0.649 | Steps: 1 | Worker: 0\n",
            "Episode: (66/15000) | EMA Reward: -0.698 | Reward: 1.0 | Loss: 0.634 | Steps: 1 | Worker: 1\n",
            "Episode: (67/15000) | EMA Reward: -0.701 | Reward: -1.0 | Loss: -inf | Steps: 0 | Worker: 0\n",
            "Episode: (68/15000) | EMA Reward: -0.684 | Reward: 1.0 | Loss: 0.512 | Steps: 1 | Worker: 1\n",
            "Episode: (69/15000) | EMA Reward: -0.687 | Reward: -1.0 | Loss: inf | Steps: 0 | Worker: 1\n",
            "Episode: (70/15000) | EMA Reward: -0.69 | Reward: -1.0 | Loss: -0.021 | Steps: 2 | Worker: 0\n",
            "Episode: (71/15000) | EMA Reward: -0.673 | Reward: 1.0 | Loss: 0.401 | Steps: 1 | Worker: 0\n",
            "Episode: (72/15000) | EMA Reward: -0.676 | Reward: -1.0 | Loss: 0.131 | Steps: 3 | Worker: 1\n",
            "Episode: (73/15000) | EMA Reward: -0.66 | Reward: 1.0 | Loss: -inf | Steps: 0 | Worker: 0\n",
            "Episode: (74/15000) | EMA Reward: -0.643 | Reward: 1.0 | Loss: 0.312 | Steps: 1 | Worker: 1\n",
            "Episode: (75/15000) | EMA Reward: -0.627 | Reward: 1.0 | Loss: -inf | Steps: 0 | Worker: 0\n",
            "Episode: (76/15000) | EMA Reward: -0.61 | Reward: 1.0 | Loss: 0.638 | Steps: 1 | Worker: 1\n",
            "Episode: (77/15000) | EMA Reward: -0.594 | Reward: 1.0 | Loss: -inf | Steps: 0 | Worker: 1\n",
            "Episode: (78/15000) | EMA Reward: -0.598 | Reward: -1.0 | Loss: 0.731 | Steps: 1 | Worker: 0\n",
            "Episode: (79/15000) | EMA Reward: -0.602 | Reward: -1.0 | Loss: -inf | Steps: 0 | Worker: 0\n",
            "Episode: (80/15000) | EMA Reward: -0.606 | Reward: -1.0 | Loss: 0.237 | Steps: 1 | Worker: 1\n",
            "Episode: (81/15000) | EMA Reward: -0.61 | Reward: -1.0 | Loss: -inf | Steps: 0 | Worker: 0\n",
            "Episode: (82/15000) | EMA Reward: -0.594 | Reward: 1.0 | Loss: 0.349 | Steps: 1 | Worker: 1\n",
            "Episode: (83/15000) | EMA Reward: -0.598 | Reward: -1.0 | Loss: -inf | Steps: 0 | Worker: 0\n",
            "Episode: (84/15000) | EMA Reward: -0.602 | Reward: -1.0 | Loss: 0.178 | Steps: 2 | Worker: 1\n",
            "Episode: (85/15000) | EMA Reward: -0.606 | Reward: -1.0 | Loss: -inf | Steps: 0 | Worker: 0\n",
            "Episode: (86/15000) | EMA Reward: -0.61 | Reward: -1.0 | Loss: -inf | Steps: 0 | Worker: 1\n",
            "Episode: (87/15000) | EMA Reward: -0.594 | Reward: 1.0 | Loss: 0.459 | Steps: 1 | Worker: 0\n",
            "Episode: (88/15000) | EMA Reward: -0.578 | Reward: 1.0 | Loss: -inf | Steps: 0 | Worker: 1\n",
            "Episode: (89/15000) | EMA Reward: -0.582 | Reward: -1.0 | Loss: -inf | Steps: 0 | Worker: 0\n",
            "Episode: (90/15000) | EMA Reward: -0.566 | Reward: 1.0 | Loss: -inf | Steps: 0 | Worker: 0\n",
            "Episode: (91/15000) | EMA Reward: -0.551 | Reward: 1.0 | Loss: 0.217 | Steps: 1 | Worker: 1\n",
            "Episode: (92/15000) | EMA Reward: -0.555 | Reward: -1.0 | Loss: -inf | Steps: 0 | Worker: 0\n",
            "Episode: (93/15000) | EMA Reward: -0.56 | Reward: -1.0 | Loss: -inf | Steps: 0 | Worker: 1\n",
            "Episode: (94/15000) | EMA Reward: -0.544 | Reward: 1.0 | Loss: inf | Steps: 0 | Worker: 0\n",
            "Episode: (95/15000) | EMA Reward: -0.549 | Reward: -1.0 | Loss: -inf | Steps: 0 | Worker: 1\n",
            "Episode: (96/15000) | EMA Reward: -0.553 | Reward: -1.0 | Loss: inf | Steps: 0 | Worker: 0\n",
            "Episode: (97/15000) | EMA Reward: -0.558 | Reward: -1.0 | Loss: -0.183 | Steps: 1 | Worker: 1\n",
            "Episode: (98/15000) | EMA Reward: -0.562 | Reward: -1.0 | Loss: -inf | Steps: 0 | Worker: 1\n",
            "Episode: (99/15000) | EMA Reward: -0.566 | Reward: -1.0 | Loss: -inf | Steps: 0 | Worker: 0\n",
            "Episode: (100/15000) | EMA Reward: -0.571 | Reward: -1.0 | Loss: -inf | Steps: 0 | Worker: 1\n",
            "Episode: (101/15000) | EMA Reward: -0.575 | Reward: -1.0 | Loss: -inf | Steps: 0 | Worker: 0\n",
            "Episode: (102/15000) | EMA Reward: -0.559 | Reward: 1.0 | Loss: -inf | Steps: 0 | Worker: 0\n",
            "Episode: (103/15000) | EMA Reward: -0.554 | Reward: 0.0 | Loss: -inf | Steps: 0 | Worker: 1\n",
            "Episode: (104/15000) | EMA Reward: -0.558 | Reward: -1.0 | Loss: 0.0809 | Steps: 1 | Worker: 0\n",
            "Episode: (105/15000) | EMA Reward: -0.543 | Reward: 1.0 | Loss: -inf | Steps: 0 | Worker: 1\n",
            "Episode: (106/15000) | EMA Reward: -0.547 | Reward: -1.0 | Loss: -0.358 | Steps: 1 | Worker: 0\n",
            "Episode: (107/15000) | EMA Reward: -0.552 | Reward: -1.0 | Loss: -inf | Steps: 0 | Worker: 1\n",
            "Episode: (108/15000) | EMA Reward: -0.556 | Reward: -1.0 | Loss: -0.167 | Steps: 1 | Worker: 0\n",
            "Episode: (109/15000) | EMA Reward: -0.561 | Reward: -1.0 | Loss: 0.228 | Steps: 1 | Worker: 1\n",
            "Episode: (110/15000) | EMA Reward: -0.565 | Reward: -1.0 | Loss: -inf | Steps: 0 | Worker: 0\n",
            "Episode: (111/15000) | EMA Reward: -0.549 | Reward: 1.0 | Loss: -inf | Steps: 0 | Worker: 1\n",
            "Episode: (112/15000) | EMA Reward: -0.534 | Reward: 1.0 | Loss: -inf | Steps: 0 | Worker: 0\n",
            "Episode: (113/15000) | EMA Reward: -0.539 | Reward: -1.0 | Loss: -inf | Steps: 0 | Worker: 1\n",
            "Episode: (114/15000) | EMA Reward: -0.543 | Reward: -1.0 | Loss: -inf | Steps: 0 | Worker: 0\n",
            "Episode: (115/15000) | EMA Reward: -0.538 | Reward: 0.0 | Loss: -inf | Steps: 0 | Worker: 1\n",
            "Episode: (116/15000) | EMA Reward: -0.522 | Reward: 1.0 | Loss: -inf | Steps: 0 | Worker: 0\n",
            "Episode: (117/15000) | EMA Reward: -0.507 | Reward: 1.0 | Loss: -inf | Steps: 0 | Worker: 1\n",
            "Episode: (118/15000) | EMA Reward: -0.492 | Reward: 1.0 | Loss: 0.31 | Steps: 1 | Worker: 0\n",
            "Episode: (119/15000) | EMA Reward: -0.497 | Reward: -1.0 | Loss: 0.0991 | Steps: 1 | Worker: 1\n"
          ]
        }
      ]
    },
    {
      "cell_type": "code",
      "metadata": {
        "id": "1qXbSqOOLAKd",
        "colab": {
          "base_uri": "https://localhost:8080/",
          "height": 352
        },
        "outputId": "35be749a-153f-4aa2-f466-bf30f9067f5b"
      },
      "source": [
        "runner.play(plays=100, max_steps_per_episode=max_steps_per_episode, show_plots=True)"
      ],
      "execution_count": null,
      "outputs": [
        {
          "output_type": "stream",
          "name": "stdout",
          "text": [
            "Avg rewards: -0.52 +/- 0.84\n",
            "Avg steps: 1.55 +/- 0.84\n",
            "Avg entropy: 0.5699999928474426 +/- 0.10999999940395355\n"
          ]
        },
        {
          "output_type": "display_data",
          "data": {
            "image/png": "[encoded data removed]",
            "text/plain": [
              "<Figure size 432x288 with 1 Axes>"
            ]
          },
          "metadata": {
            "needs_background": "light"
          }
        }
      ]
    },
    {
      "cell_type": "markdown",
      "metadata": {
        "id": "3RoY6P3OzRyy"
      },
      "source": [
        "## Save model weights for a later use (optional)."
      ]
    },
    {
      "cell_type": "code",
      "metadata": {
        "id": "We2l8xxlznvz"
      },
      "source": [
        "episode_count = A3CAgent.global_episode\n",
        "if save_model:\n",
        "    model_folder = os.path.join(\"./models\", gym_name, implementation, \"Ep_\" + str(episode_count).zfill(5), \"model\")\n",
        "    if not os.path.exists(model_folder):\n",
        "        os.makedirs(model_folder)\n",
        "    neural_nets[-1].save_weights(filepath=model_folder, save_format=\"tf\")"
      ],
      "execution_count": null,
      "outputs": []
    }
  ]
}